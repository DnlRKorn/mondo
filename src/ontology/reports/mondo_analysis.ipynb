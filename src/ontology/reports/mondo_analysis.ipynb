{
 "cells": [
  {
   "cell_type": "markdown",
   "metadata": {},
   "source": [
    "import os\n",
    "os.environ['PATH']\n",
    "stream = os.popen('owltools --help')\n",
    "output = stream.read()\n",
    "output"
   ]
  },
  {
   "cell_type": "code",
   "execution_count": 71,
   "metadata": {},
   "outputs": [],
   "source": [
    "import pandas as pd\n",
    "import os\n",
    "from rdflib import Graph\n",
    "from urllib.request import urlopen\n",
    "import subprocess\n",
    "import time\n",
    "from IPython.display import Markdown as md\n",
    "\n",
    "# use ontobio!!\n"
   ]
  },
  {
   "cell_type": "code",
   "execution_count": 72,
   "metadata": {},
   "outputs": [
    {
     "data": {
      "application/javascript": [
       "IPython.OutputArea.prototype._should_scroll = function(lines) {\n",
       "    return false;\n",
       "}\n"
      ],
      "text/plain": [
       "<IPython.core.display.Javascript object>"
      ]
     },
     "metadata": {},
     "output_type": "display_data"
    }
   ],
   "source": [
    "%%javascript\n",
    "IPython.OutputArea.prototype._should_scroll = function(lines) {\n",
    "    return false;\n",
    "}"
   ]
  },
  {
   "cell_type": "markdown",
   "metadata": {},
   "source": [
    "# Mondo analysis"
   ]
  },
  {
   "cell_type": "markdown",
   "metadata": {},
   "source": [
    "from ontobio.ontol_factory import OntologyFactory\n",
    "mondo_file=\"/Users/matentzn/ws/mondo/src/ontology/mondo-qc.obo\"\n",
    "ofa = OntologyFactory()\n",
    "ont = ofa.create(mondo_file)\n",
    "ont.get_roots()[:3]"
   ]
  },
  {
   "cell_type": "code",
   "execution_count": 73,
   "metadata": {},
   "outputs": [],
   "source": [
    "#sparql_dir_remote=\"https://raw.githubusercontent.com/monarch-initiative/mondo/no-subclass-between-genetic-disease/src/sparql/\"\n",
    "#mondo = \"mondo-qc.owl\"\n",
    "#sparql_dir_local=\"../sparql/\"\n",
    "reports_dir_local=\"reports/\"\n",
    "warnings =\"single-child no-subclass-between-genetic-disease related-exact-synonym excluded-subsumption-is-inferred\".split(\" \")\n",
    "warning_reports = [warn+\"-warning\" for warn in warnings] "
   ]
  },
  {
   "cell_type": "markdown",
   "metadata": {},
   "source": [
    "mondo=\"http://purl.obolibrary.org/obo/mondo.owl\"\n",
    "g = Graph()\n",
    "g.parse(\"../mondo-qc.owl\", format=\"xml\")"
   ]
  },
  {
   "cell_type": "code",
   "execution_count": 74,
   "metadata": {},
   "outputs": [],
   "source": [
    "def sparql_path(sparql):\n",
    "    return os.path.join(sparql_dir_local,sparql+\".sparql\")\n",
    "\n",
    "def report_path(report):\n",
    "    return os.path.join(reports_dir_local,report+\".tsv\")\n",
    "\n",
    "def get_report(name):\n",
    "    try:\n",
    "        return pd.read_csv(report_path(name),sep=\"\\t\")\n",
    "    except pd.errors.EmptyDataError:\n",
    "        print(\"WARNING! \", name, \" is empty and has been skipped.\")\n",
    "    return pd.DataFrame(columns=['EMPTY'])\n",
    "        \n",
    "def load_from_uri(uri):\n",
    "    query = urlopen(sparql_iri).read().decode('utf-8')\n",
    "    return query\n",
    "\n",
    "\n",
    "def load_from_local_file(file_path):\n",
    "    with open(file_path, 'r') as file:\n",
    "        data = file.read()\n",
    "    return data\n"
   ]
  },
  {
   "cell_type": "markdown",
   "metadata": {},
   "source": [
    "## Robot report analysis"
   ]
  },
  {
   "cell_type": "code",
   "execution_count": 75,
   "metadata": {},
   "outputs": [],
   "source": [
    "df = get_report(\"obo-report\")\n",
    "# Bug in ROBOT, wrong number of columns:\n",
    "df.columns=['Rule Name', 'Subject', 'Property', 'Value','Trash']\n",
    "df['Level'] = df.index\n",
    "df.reset_index(level=0, inplace=True)\n",
    "del df['index']\n",
    "del df['Trash']"
   ]
  },
  {
   "cell_type": "code",
   "execution_count": null,
   "metadata": {},
   "outputs": [],
   "source": [
    "### Overview of errors\n",
    "\n",
    "This section aims "
   ]
  },
  {
   "cell_type": "code",
   "execution_count": 76,
   "metadata": {},
   "outputs": [
    {
     "data": {
      "text/markdown": [
       "### Overview of errors"
      ],
      "text/plain": [
       "<IPython.core.display.Markdown object>"
      ]
     },
     "metadata": {},
     "output_type": "display_data"
    },
    {
     "data": {
      "text/html": [
       "<div>\n",
       "<style scoped>\n",
       "    .dataframe tbody tr th:only-of-type {\n",
       "        vertical-align: middle;\n",
       "    }\n",
       "\n",
       "    .dataframe tbody tr th {\n",
       "        vertical-align: top;\n",
       "    }\n",
       "\n",
       "    .dataframe thead th {\n",
       "        text-align: right;\n",
       "    }\n",
       "</style>\n",
       "<table border=\"1\" class=\"dataframe\">\n",
       "  <thead>\n",
       "    <tr style=\"text-align: right;\">\n",
       "      <th></th>\n",
       "      <th></th>\n",
       "      <th>Value</th>\n",
       "    </tr>\n",
       "    <tr>\n",
       "      <th>Level</th>\n",
       "      <th>Rule Name</th>\n",
       "      <th></th>\n",
       "    </tr>\n",
       "  </thead>\n",
       "  <tbody>\n",
       "    <tr>\n",
       "      <th rowspan=\"2\" valign=\"top\">ERROR</th>\n",
       "      <th>deprecated_class_reference</th>\n",
       "      <td>54</td>\n",
       "    </tr>\n",
       "    <tr>\n",
       "      <th>multiple_equivalent_classes</th>\n",
       "      <td>37563</td>\n",
       "    </tr>\n",
       "    <tr>\n",
       "      <th>INFO</th>\n",
       "      <th>lowercase_definition</th>\n",
       "      <td>300</td>\n",
       "    </tr>\n",
       "    <tr>\n",
       "      <th rowspan=\"4\" valign=\"top\">WARN</th>\n",
       "      <th>duplicate_exact_synonym</th>\n",
       "      <td>1655</td>\n",
       "    </tr>\n",
       "    <tr>\n",
       "      <th>duplicate_scoped_synonym</th>\n",
       "      <td>1595</td>\n",
       "    </tr>\n",
       "    <tr>\n",
       "      <th>equivalent_pair</th>\n",
       "      <td>37603</td>\n",
       "    </tr>\n",
       "    <tr>\n",
       "      <th>missing_definition</th>\n",
       "      <td>0</td>\n",
       "    </tr>\n",
       "  </tbody>\n",
       "</table>\n",
       "</div>"
      ],
      "text/plain": [
       "                                   Value\n",
       "Level Rule Name                         \n",
       "ERROR deprecated_class_reference      54\n",
       "      multiple_equivalent_classes  37563\n",
       "INFO  lowercase_definition           300\n",
       "WARN  duplicate_exact_synonym       1655\n",
       "      duplicate_scoped_synonym      1595\n",
       "      equivalent_pair              37603\n",
       "      missing_definition               0"
      ]
     },
     "execution_count": 76,
     "metadata": {},
     "output_type": "execute_result"
    }
   ],
   "source": [
    "df=df[df['Subject'].str.startswith('MONDO')]\n",
    "df[['Level','Rule Name','Value']].groupby(['Level','Rule Name']).count()"
   ]
  },
  {
   "cell_type": "code",
   "execution_count": 77,
   "metadata": {},
   "outputs": [
    {
     "data": {
      "text/markdown": [
       "#### multiple_equivalent_classes"
      ],
      "text/plain": [
       "<IPython.core.display.Markdown object>"
      ]
     },
     "metadata": {},
     "output_type": "display_data"
    },
    {
     "data": {
      "text/html": [
       "<div>\n",
       "<style scoped>\n",
       "    .dataframe tbody tr th:only-of-type {\n",
       "        vertical-align: middle;\n",
       "    }\n",
       "\n",
       "    .dataframe tbody tr th {\n",
       "        vertical-align: top;\n",
       "    }\n",
       "\n",
       "    .dataframe thead th {\n",
       "        text-align: right;\n",
       "    }\n",
       "</style>\n",
       "<table border=\"1\" class=\"dataframe\">\n",
       "  <thead>\n",
       "    <tr style=\"text-align: right;\">\n",
       "      <th></th>\n",
       "      <th>Rule Name</th>\n",
       "      <th>Subject</th>\n",
       "      <th>Property</th>\n",
       "      <th>Value</th>\n",
       "      <th>Level</th>\n",
       "    </tr>\n",
       "  </thead>\n",
       "  <tbody>\n",
       "    <tr>\n",
       "      <th>0</th>\n",
       "      <td>multiple_equivalent_classes</td>\n",
       "      <td>MONDO:0000001</td>\n",
       "      <td>owl:equivalentClass</td>\n",
       "      <td>NCIT:C2991</td>\n",
       "      <td>ERROR</td>\n",
       "    </tr>\n",
       "    <tr>\n",
       "      <th>1</th>\n",
       "      <td>multiple_equivalent_classes</td>\n",
       "      <td>MONDO:0000001</td>\n",
       "      <td>owl:equivalentClass</td>\n",
       "      <td>OGMS:0000031</td>\n",
       "      <td>ERROR</td>\n",
       "    </tr>\n",
       "    <tr>\n",
       "      <th>2</th>\n",
       "      <td>multiple_equivalent_classes</td>\n",
       "      <td>MONDO:0000001</td>\n",
       "      <td>owl:equivalentClass</td>\n",
       "      <td>SCTID:64572001</td>\n",
       "      <td>ERROR</td>\n",
       "    </tr>\n",
       "    <tr>\n",
       "      <th>3</th>\n",
       "      <td>multiple_equivalent_classes</td>\n",
       "      <td>MONDO:0000001</td>\n",
       "      <td>owl:equivalentClass</td>\n",
       "      <td>http://www.ebi.ac.uk/efo/EFO_0000408</td>\n",
       "      <td>ERROR</td>\n",
       "    </tr>\n",
       "    <tr>\n",
       "      <th>4</th>\n",
       "      <td>multiple_equivalent_classes</td>\n",
       "      <td>MONDO:0000001</td>\n",
       "      <td>owl:equivalentClass</td>\n",
       "      <td>http://www.orpha.net/ORDO/Orphanet_377788</td>\n",
       "      <td>ERROR</td>\n",
       "    </tr>\n",
       "  </tbody>\n",
       "</table>\n",
       "</div>"
      ],
      "text/plain": [
       "                     Rule Name        Subject             Property  \\\n",
       "0  multiple_equivalent_classes  MONDO:0000001  owl:equivalentClass   \n",
       "1  multiple_equivalent_classes  MONDO:0000001  owl:equivalentClass   \n",
       "2  multiple_equivalent_classes  MONDO:0000001  owl:equivalentClass   \n",
       "3  multiple_equivalent_classes  MONDO:0000001  owl:equivalentClass   \n",
       "4  multiple_equivalent_classes  MONDO:0000001  owl:equivalentClass   \n",
       "\n",
       "                                       Value  Level  \n",
       "0                                 NCIT:C2991  ERROR  \n",
       "1                               OGMS:0000031  ERROR  \n",
       "2                             SCTID:64572001  ERROR  \n",
       "3       http://www.ebi.ac.uk/efo/EFO_0000408  ERROR  \n",
       "4  http://www.orpha.net/ORDO/Orphanet_377788  ERROR  "
      ]
     },
     "metadata": {},
     "output_type": "display_data"
    },
    {
     "data": {
      "text/markdown": [
       "#### deprecated_class_reference"
      ],
      "text/plain": [
       "<IPython.core.display.Markdown object>"
      ]
     },
     "metadata": {},
     "output_type": "display_data"
    },
    {
     "data": {
      "text/html": [
       "<div>\n",
       "<style scoped>\n",
       "    .dataframe tbody tr th:only-of-type {\n",
       "        vertical-align: middle;\n",
       "    }\n",
       "\n",
       "    .dataframe tbody tr th {\n",
       "        vertical-align: top;\n",
       "    }\n",
       "\n",
       "    .dataframe thead th {\n",
       "        text-align: right;\n",
       "    }\n",
       "</style>\n",
       "<table border=\"1\" class=\"dataframe\">\n",
       "  <thead>\n",
       "    <tr style=\"text-align: right;\">\n",
       "      <th></th>\n",
       "      <th>Rule Name</th>\n",
       "      <th>Subject</th>\n",
       "      <th>Property</th>\n",
       "      <th>Value</th>\n",
       "      <th>Level</th>\n",
       "    </tr>\n",
       "  </thead>\n",
       "  <tbody>\n",
       "    <tr>\n",
       "      <th>37816</th>\n",
       "      <td>deprecated_class_reference</td>\n",
       "      <td>MONDO:0000747</td>\n",
       "      <td>owl:equivalentClass</td>\n",
       "      <td>http://linkedlifedata.com/resource/umls/id/C00...</td>\n",
       "      <td>ERROR</td>\n",
       "    </tr>\n",
       "    <tr>\n",
       "      <th>37817</th>\n",
       "      <td>deprecated_class_reference</td>\n",
       "      <td>MONDO:0000747</td>\n",
       "      <td>owl:equivalentClass</td>\n",
       "      <td>COHD:4245842</td>\n",
       "      <td>ERROR</td>\n",
       "    </tr>\n",
       "    <tr>\n",
       "      <th>37818</th>\n",
       "      <td>deprecated_class_reference</td>\n",
       "      <td>MONDO:0000747</td>\n",
       "      <td>owl:equivalentClass</td>\n",
       "      <td>DOID:0060321</td>\n",
       "      <td>ERROR</td>\n",
       "    </tr>\n",
       "    <tr>\n",
       "      <th>37819</th>\n",
       "      <td>deprecated_class_reference</td>\n",
       "      <td>MONDO:0000747</td>\n",
       "      <td>owl:equivalentClass</td>\n",
       "      <td>ICD9:553.1</td>\n",
       "      <td>ERROR</td>\n",
       "    </tr>\n",
       "    <tr>\n",
       "      <th>37820</th>\n",
       "      <td>deprecated_class_reference</td>\n",
       "      <td>MONDO:0000747</td>\n",
       "      <td>owl:equivalentClass</td>\n",
       "      <td>MESH:D006554</td>\n",
       "      <td>ERROR</td>\n",
       "    </tr>\n",
       "  </tbody>\n",
       "</table>\n",
       "</div>"
      ],
      "text/plain": [
       "                        Rule Name        Subject             Property  \\\n",
       "37816  deprecated_class_reference  MONDO:0000747  owl:equivalentClass   \n",
       "37817  deprecated_class_reference  MONDO:0000747  owl:equivalentClass   \n",
       "37818  deprecated_class_reference  MONDO:0000747  owl:equivalentClass   \n",
       "37819  deprecated_class_reference  MONDO:0000747  owl:equivalentClass   \n",
       "37820  deprecated_class_reference  MONDO:0000747  owl:equivalentClass   \n",
       "\n",
       "                                                   Value  Level  \n",
       "37816  http://linkedlifedata.com/resource/umls/id/C00...  ERROR  \n",
       "37817                                       COHD:4245842  ERROR  \n",
       "37818                                       DOID:0060321  ERROR  \n",
       "37819                                         ICD9:553.1  ERROR  \n",
       "37820                                       MESH:D006554  ERROR  "
      ]
     },
     "metadata": {},
     "output_type": "display_data"
    },
    {
     "data": {
      "text/markdown": [
       "#### duplicate_exact_synonym"
      ],
      "text/plain": [
       "<IPython.core.display.Markdown object>"
      ]
     },
     "metadata": {},
     "output_type": "display_data"
    },
    {
     "data": {
      "text/html": [
       "<div>\n",
       "<style scoped>\n",
       "    .dataframe tbody tr th:only-of-type {\n",
       "        vertical-align: middle;\n",
       "    }\n",
       "\n",
       "    .dataframe tbody tr th {\n",
       "        vertical-align: top;\n",
       "    }\n",
       "\n",
       "    .dataframe thead th {\n",
       "        text-align: right;\n",
       "    }\n",
       "</style>\n",
       "<table border=\"1\" class=\"dataframe\">\n",
       "  <thead>\n",
       "    <tr style=\"text-align: right;\">\n",
       "      <th></th>\n",
       "      <th>Rule Name</th>\n",
       "      <th>Subject</th>\n",
       "      <th>Property</th>\n",
       "      <th>Value</th>\n",
       "      <th>Level</th>\n",
       "    </tr>\n",
       "  </thead>\n",
       "  <tbody>\n",
       "    <tr>\n",
       "      <th>37871</th>\n",
       "      <td>duplicate_exact_synonym</td>\n",
       "      <td>MONDO:0003401</td>\n",
       "      <td>oboInOwl:hasExactSynonym</td>\n",
       "      <td>yolk Sac tumor of the CNS</td>\n",
       "      <td>WARN</td>\n",
       "    </tr>\n",
       "    <tr>\n",
       "      <th>37872</th>\n",
       "      <td>duplicate_exact_synonym</td>\n",
       "      <td>MONDO:0016739</td>\n",
       "      <td>oboInOwl:hasExactSynonym</td>\n",
       "      <td>yolk Sac tumor of the CNS</td>\n",
       "      <td>WARN</td>\n",
       "    </tr>\n",
       "    <tr>\n",
       "      <th>37873</th>\n",
       "      <td>duplicate_exact_synonym</td>\n",
       "      <td>MONDO:0003404</td>\n",
       "      <td>oboInOwl:hasExactSynonym</td>\n",
       "      <td>yolk Sac tumor</td>\n",
       "      <td>WARN</td>\n",
       "    </tr>\n",
       "    <tr>\n",
       "      <th>37874</th>\n",
       "      <td>duplicate_exact_synonym</td>\n",
       "      <td>MONDO:0005744</td>\n",
       "      <td>oboInOwl:hasExactSynonym</td>\n",
       "      <td>yolk Sac tumor</td>\n",
       "      <td>WARN</td>\n",
       "    </tr>\n",
       "    <tr>\n",
       "      <th>37875</th>\n",
       "      <td>duplicate_exact_synonym</td>\n",
       "      <td>MONDO:0010420</td>\n",
       "      <td>oboInOwl:hasExactSynonym</td>\n",
       "      <td>XLP</td>\n",
       "      <td>WARN</td>\n",
       "    </tr>\n",
       "  </tbody>\n",
       "</table>\n",
       "</div>"
      ],
      "text/plain": [
       "                     Rule Name        Subject                  Property  \\\n",
       "37871  duplicate_exact_synonym  MONDO:0003401  oboInOwl:hasExactSynonym   \n",
       "37872  duplicate_exact_synonym  MONDO:0016739  oboInOwl:hasExactSynonym   \n",
       "37873  duplicate_exact_synonym  MONDO:0003404  oboInOwl:hasExactSynonym   \n",
       "37874  duplicate_exact_synonym  MONDO:0005744  oboInOwl:hasExactSynonym   \n",
       "37875  duplicate_exact_synonym  MONDO:0010420  oboInOwl:hasExactSynonym   \n",
       "\n",
       "                           Value Level  \n",
       "37871  yolk Sac tumor of the CNS  WARN  \n",
       "37872  yolk Sac tumor of the CNS  WARN  \n",
       "37873             yolk Sac tumor  WARN  \n",
       "37874             yolk Sac tumor  WARN  \n",
       "37875                        XLP  WARN  "
      ]
     },
     "metadata": {},
     "output_type": "display_data"
    },
    {
     "data": {
      "text/markdown": [
       "#### equivalent_pair"
      ],
      "text/plain": [
       "<IPython.core.display.Markdown object>"
      ]
     },
     "metadata": {},
     "output_type": "display_data"
    },
    {
     "data": {
      "text/html": [
       "<div>\n",
       "<style scoped>\n",
       "    .dataframe tbody tr th:only-of-type {\n",
       "        vertical-align: middle;\n",
       "    }\n",
       "\n",
       "    .dataframe tbody tr th {\n",
       "        vertical-align: top;\n",
       "    }\n",
       "\n",
       "    .dataframe thead th {\n",
       "        text-align: right;\n",
       "    }\n",
       "</style>\n",
       "<table border=\"1\" class=\"dataframe\">\n",
       "  <thead>\n",
       "    <tr style=\"text-align: right;\">\n",
       "      <th></th>\n",
       "      <th>Rule Name</th>\n",
       "      <th>Subject</th>\n",
       "      <th>Property</th>\n",
       "      <th>Value</th>\n",
       "      <th>Level</th>\n",
       "    </tr>\n",
       "  </thead>\n",
       "  <tbody>\n",
       "    <tr>\n",
       "      <th>83574</th>\n",
       "      <td>equivalent_pair</td>\n",
       "      <td>MONDO:0000001</td>\n",
       "      <td>owl:equivalentClass</td>\n",
       "      <td>NCIT:C2991</td>\n",
       "      <td>WARN</td>\n",
       "    </tr>\n",
       "    <tr>\n",
       "      <th>83575</th>\n",
       "      <td>equivalent_pair</td>\n",
       "      <td>MONDO:0000001</td>\n",
       "      <td>owl:equivalentClass</td>\n",
       "      <td>OGMS:0000031</td>\n",
       "      <td>WARN</td>\n",
       "    </tr>\n",
       "    <tr>\n",
       "      <th>83576</th>\n",
       "      <td>equivalent_pair</td>\n",
       "      <td>MONDO:0000001</td>\n",
       "      <td>owl:equivalentClass</td>\n",
       "      <td>SCTID:64572001</td>\n",
       "      <td>WARN</td>\n",
       "    </tr>\n",
       "    <tr>\n",
       "      <th>83577</th>\n",
       "      <td>equivalent_pair</td>\n",
       "      <td>MONDO:0000001</td>\n",
       "      <td>owl:equivalentClass</td>\n",
       "      <td>http://www.ebi.ac.uk/efo/EFO_0000408</td>\n",
       "      <td>WARN</td>\n",
       "    </tr>\n",
       "    <tr>\n",
       "      <th>83578</th>\n",
       "      <td>equivalent_pair</td>\n",
       "      <td>MONDO:0000001</td>\n",
       "      <td>owl:equivalentClass</td>\n",
       "      <td>http://www.orpha.net/ORDO/Orphanet_377788</td>\n",
       "      <td>WARN</td>\n",
       "    </tr>\n",
       "  </tbody>\n",
       "</table>\n",
       "</div>"
      ],
      "text/plain": [
       "             Rule Name        Subject             Property  \\\n",
       "83574  equivalent_pair  MONDO:0000001  owl:equivalentClass   \n",
       "83575  equivalent_pair  MONDO:0000001  owl:equivalentClass   \n",
       "83576  equivalent_pair  MONDO:0000001  owl:equivalentClass   \n",
       "83577  equivalent_pair  MONDO:0000001  owl:equivalentClass   \n",
       "83578  equivalent_pair  MONDO:0000001  owl:equivalentClass   \n",
       "\n",
       "                                           Value Level  \n",
       "83574                                 NCIT:C2991  WARN  \n",
       "83575                               OGMS:0000031  WARN  \n",
       "83576                             SCTID:64572001  WARN  \n",
       "83577       http://www.ebi.ac.uk/efo/EFO_0000408  WARN  \n",
       "83578  http://www.orpha.net/ORDO/Orphanet_377788  WARN  "
      ]
     },
     "metadata": {},
     "output_type": "display_data"
    },
    {
     "data": {
      "text/markdown": [
       "#### missing_definition"
      ],
      "text/plain": [
       "<IPython.core.display.Markdown object>"
      ]
     },
     "metadata": {},
     "output_type": "display_data"
    },
    {
     "data": {
      "text/html": [
       "<div>\n",
       "<style scoped>\n",
       "    .dataframe tbody tr th:only-of-type {\n",
       "        vertical-align: middle;\n",
       "    }\n",
       "\n",
       "    .dataframe tbody tr th {\n",
       "        vertical-align: top;\n",
       "    }\n",
       "\n",
       "    .dataframe thead th {\n",
       "        text-align: right;\n",
       "    }\n",
       "</style>\n",
       "<table border=\"1\" class=\"dataframe\">\n",
       "  <thead>\n",
       "    <tr style=\"text-align: right;\">\n",
       "      <th></th>\n",
       "      <th>Rule Name</th>\n",
       "      <th>Subject</th>\n",
       "      <th>Property</th>\n",
       "      <th>Value</th>\n",
       "      <th>Level</th>\n",
       "    </tr>\n",
       "  </thead>\n",
       "  <tbody>\n",
       "    <tr>\n",
       "      <th>121277</th>\n",
       "      <td>missing_definition</td>\n",
       "      <td>MONDO:0000005</td>\n",
       "      <td>IAO:0000115</td>\n",
       "      <td>NaN</td>\n",
       "      <td>WARN</td>\n",
       "    </tr>\n",
       "    <tr>\n",
       "      <th>121278</th>\n",
       "      <td>missing_definition</td>\n",
       "      <td>MONDO:0000009</td>\n",
       "      <td>IAO:0000115</td>\n",
       "      <td>NaN</td>\n",
       "      <td>WARN</td>\n",
       "    </tr>\n",
       "    <tr>\n",
       "      <th>121279</th>\n",
       "      <td>missing_definition</td>\n",
       "      <td>MONDO:0000014</td>\n",
       "      <td>IAO:0000115</td>\n",
       "      <td>NaN</td>\n",
       "      <td>WARN</td>\n",
       "    </tr>\n",
       "    <tr>\n",
       "      <th>121280</th>\n",
       "      <td>missing_definition</td>\n",
       "      <td>MONDO:0000023</td>\n",
       "      <td>IAO:0000115</td>\n",
       "      <td>NaN</td>\n",
       "      <td>WARN</td>\n",
       "    </tr>\n",
       "    <tr>\n",
       "      <th>121281</th>\n",
       "      <td>missing_definition</td>\n",
       "      <td>MONDO:0000030</td>\n",
       "      <td>IAO:0000115</td>\n",
       "      <td>NaN</td>\n",
       "      <td>WARN</td>\n",
       "    </tr>\n",
       "  </tbody>\n",
       "</table>\n",
       "</div>"
      ],
      "text/plain": [
       "                 Rule Name        Subject     Property Value Level\n",
       "121277  missing_definition  MONDO:0000005  IAO:0000115   NaN  WARN\n",
       "121278  missing_definition  MONDO:0000009  IAO:0000115   NaN  WARN\n",
       "121279  missing_definition  MONDO:0000014  IAO:0000115   NaN  WARN\n",
       "121280  missing_definition  MONDO:0000023  IAO:0000115   NaN  WARN\n",
       "121281  missing_definition  MONDO:0000030  IAO:0000115   NaN  WARN"
      ]
     },
     "metadata": {},
     "output_type": "display_data"
    },
    {
     "data": {
      "text/markdown": [
       "#### duplicate_scoped_synonym"
      ],
      "text/plain": [
       "<IPython.core.display.Markdown object>"
      ]
     },
     "metadata": {},
     "output_type": "display_data"
    },
    {
     "data": {
      "text/html": [
       "<div>\n",
       "<style scoped>\n",
       "    .dataframe tbody tr th:only-of-type {\n",
       "        vertical-align: middle;\n",
       "    }\n",
       "\n",
       "    .dataframe tbody tr th {\n",
       "        vertical-align: top;\n",
       "    }\n",
       "\n",
       "    .dataframe thead th {\n",
       "        text-align: right;\n",
       "    }\n",
       "</style>\n",
       "<table border=\"1\" class=\"dataframe\">\n",
       "  <thead>\n",
       "    <tr style=\"text-align: right;\">\n",
       "      <th></th>\n",
       "      <th>Rule Name</th>\n",
       "      <th>Subject</th>\n",
       "      <th>Property</th>\n",
       "      <th>Value</th>\n",
       "      <th>Level</th>\n",
       "    </tr>\n",
       "  </thead>\n",
       "  <tbody>\n",
       "    <tr>\n",
       "      <th>128494</th>\n",
       "      <td>duplicate_scoped_synonym</td>\n",
       "      <td>MONDO:0000155</td>\n",
       "      <td>oboInOwl:hasExactSynonym</td>\n",
       "      <td>rare inborn error of sequestering of triglyceride</td>\n",
       "      <td>WARN</td>\n",
       "    </tr>\n",
       "    <tr>\n",
       "      <th>128495</th>\n",
       "      <td>duplicate_scoped_synonym</td>\n",
       "      <td>MONDO:0000155</td>\n",
       "      <td>oboInOwl:hasRelatedSynonym</td>\n",
       "      <td>rare inborn error of sequestering of triglyceride</td>\n",
       "      <td>WARN</td>\n",
       "    </tr>\n",
       "    <tr>\n",
       "      <th>128496</th>\n",
       "      <td>duplicate_scoped_synonym</td>\n",
       "      <td>MONDO:0000242</td>\n",
       "      <td>oboInOwl:hasExactSynonym</td>\n",
       "      <td>dermatophytosis of beard</td>\n",
       "      <td>WARN</td>\n",
       "    </tr>\n",
       "    <tr>\n",
       "      <th>128497</th>\n",
       "      <td>duplicate_scoped_synonym</td>\n",
       "      <td>MONDO:0000242</td>\n",
       "      <td>oboInOwl:hasRelatedSynonym</td>\n",
       "      <td>dermatophytosis of beard</td>\n",
       "      <td>WARN</td>\n",
       "    </tr>\n",
       "    <tr>\n",
       "      <th>128498</th>\n",
       "      <td>duplicate_scoped_synonym</td>\n",
       "      <td>MONDO:0000270</td>\n",
       "      <td>oboInOwl:hasExactSynonym</td>\n",
       "      <td>disorder of lower respiratory tract</td>\n",
       "      <td>WARN</td>\n",
       "    </tr>\n",
       "  </tbody>\n",
       "</table>\n",
       "</div>"
      ],
      "text/plain": [
       "                       Rule Name        Subject                    Property  \\\n",
       "128494  duplicate_scoped_synonym  MONDO:0000155    oboInOwl:hasExactSynonym   \n",
       "128495  duplicate_scoped_synonym  MONDO:0000155  oboInOwl:hasRelatedSynonym   \n",
       "128496  duplicate_scoped_synonym  MONDO:0000242    oboInOwl:hasExactSynonym   \n",
       "128497  duplicate_scoped_synonym  MONDO:0000242  oboInOwl:hasRelatedSynonym   \n",
       "128498  duplicate_scoped_synonym  MONDO:0000270    oboInOwl:hasExactSynonym   \n",
       "\n",
       "                                                    Value Level  \n",
       "128494  rare inborn error of sequestering of triglyceride  WARN  \n",
       "128495  rare inborn error of sequestering of triglyceride  WARN  \n",
       "128496                           dermatophytosis of beard  WARN  \n",
       "128497                           dermatophytosis of beard  WARN  \n",
       "128498                disorder of lower respiratory tract  WARN  "
      ]
     },
     "metadata": {},
     "output_type": "display_data"
    },
    {
     "data": {
      "text/markdown": [
       "#### lowercase_definition"
      ],
      "text/plain": [
       "<IPython.core.display.Markdown object>"
      ]
     },
     "metadata": {},
     "output_type": "display_data"
    },
    {
     "data": {
      "text/html": [
       "<div>\n",
       "<style scoped>\n",
       "    .dataframe tbody tr th:only-of-type {\n",
       "        vertical-align: middle;\n",
       "    }\n",
       "\n",
       "    .dataframe tbody tr th {\n",
       "        vertical-align: top;\n",
       "    }\n",
       "\n",
       "    .dataframe thead th {\n",
       "        text-align: right;\n",
       "    }\n",
       "</style>\n",
       "<table border=\"1\" class=\"dataframe\">\n",
       "  <thead>\n",
       "    <tr style=\"text-align: right;\">\n",
       "      <th></th>\n",
       "      <th>Rule Name</th>\n",
       "      <th>Subject</th>\n",
       "      <th>Property</th>\n",
       "      <th>Value</th>\n",
       "      <th>Level</th>\n",
       "    </tr>\n",
       "  </thead>\n",
       "  <tbody>\n",
       "    <tr>\n",
       "      <th>130090</th>\n",
       "      <td>lowercase_definition</td>\n",
       "      <td>MONDO:0000712</td>\n",
       "      <td>IAO:0000115</td>\n",
       "      <td>frontotemporal dementia plus amyotrophic later...</td>\n",
       "      <td>INFO</td>\n",
       "    </tr>\n",
       "    <tr>\n",
       "      <th>130091</th>\n",
       "      <td>lowercase_definition</td>\n",
       "      <td>MONDO:0001554</td>\n",
       "      <td>IAO:0000115</td>\n",
       "      <td>secondary glaucoma caused by either excessive ...</td>\n",
       "      <td>INFO</td>\n",
       "    </tr>\n",
       "    <tr>\n",
       "      <th>130092</th>\n",
       "      <td>lowercase_definition</td>\n",
       "      <td>MONDO:0001709</td>\n",
       "      <td>IAO:0000115</td>\n",
       "      <td>sarcoidosis with a complication of hypercalcemia.</td>\n",
       "      <td>INFO</td>\n",
       "    </tr>\n",
       "    <tr>\n",
       "      <th>130093</th>\n",
       "      <td>lowercase_definition</td>\n",
       "      <td>MONDO:0001875</td>\n",
       "      <td>IAO:0000115</td>\n",
       "      <td>inflammation of the lateral epicondyle.</td>\n",
       "      <td>INFO</td>\n",
       "    </tr>\n",
       "    <tr>\n",
       "      <th>130094</th>\n",
       "      <td>lowercase_definition</td>\n",
       "      <td>MONDO:0002121</td>\n",
       "      <td>IAO:0000115</td>\n",
       "      <td>neuritis of a single nerve.</td>\n",
       "      <td>INFO</td>\n",
       "    </tr>\n",
       "  </tbody>\n",
       "</table>\n",
       "</div>"
      ],
      "text/plain": [
       "                   Rule Name        Subject     Property  \\\n",
       "130090  lowercase_definition  MONDO:0000712  IAO:0000115   \n",
       "130091  lowercase_definition  MONDO:0001554  IAO:0000115   \n",
       "130092  lowercase_definition  MONDO:0001709  IAO:0000115   \n",
       "130093  lowercase_definition  MONDO:0001875  IAO:0000115   \n",
       "130094  lowercase_definition  MONDO:0002121  IAO:0000115   \n",
       "\n",
       "                                                    Value Level  \n",
       "130090  frontotemporal dementia plus amyotrophic later...  INFO  \n",
       "130091  secondary glaucoma caused by either excessive ...  INFO  \n",
       "130092  sarcoidosis with a complication of hypercalcemia.  INFO  \n",
       "130093            inflammation of the lateral epicondyle.  INFO  \n",
       "130094                        neuritis of a single nerve.  INFO  "
      ]
     },
     "metadata": {},
     "output_type": "display_data"
    }
   ],
   "source": [
    "for rule in df['Rule Name'].unique():\n",
    "    display(md(\"#### %s\" % rule))\n",
    "    display(df[df['Rule Name']==rule].head())\n",
    "\n",
    "# Revealed a more complex issue we need to sort first: https://github.com/monarch-initiative/mondo/issues/1979\n",
    "# https://github.com/ontodev/robot/issues/733 # Ignore 0021108 0045024 until ticket resolved."
   ]
  },
  {
   "cell_type": "markdown",
   "metadata": {},
   "source": [
    "# Other checks analyses"
   ]
  },
  {
   "cell_type": "code",
   "execution_count": 80,
   "metadata": {
    "scrolled": true
   },
   "outputs": [
    {
     "data": {
      "text/markdown": [
       "#### single-child-warning"
      ],
      "text/plain": [
       "<IPython.core.display.Markdown object>"
      ]
     },
     "metadata": {},
     "output_type": "display_data"
    },
    {
     "data": {
      "text/html": [
       "<div>\n",
       "<style scoped>\n",
       "    .dataframe tbody tr th:only-of-type {\n",
       "        vertical-align: middle;\n",
       "    }\n",
       "\n",
       "    .dataframe tbody tr th {\n",
       "        vertical-align: top;\n",
       "    }\n",
       "\n",
       "    .dataframe thead th {\n",
       "        text-align: right;\n",
       "    }\n",
       "</style>\n",
       "<table border=\"1\" class=\"dataframe\">\n",
       "  <thead>\n",
       "    <tr style=\"text-align: right;\">\n",
       "      <th></th>\n",
       "      <th>?cls</th>\n",
       "      <th>?total</th>\n",
       "    </tr>\n",
       "  </thead>\n",
       "  <tbody>\n",
       "    <tr>\n",
       "      <th>0</th>\n",
       "      <td>&lt;http://purl.obolibrary.org/obo/MONDO_0016094&gt;</td>\n",
       "      <td>1</td>\n",
       "    </tr>\n",
       "    <tr>\n",
       "      <th>1</th>\n",
       "      <td>&lt;http://purl.obolibrary.org/obo/MONDO_0021396&gt;</td>\n",
       "      <td>1</td>\n",
       "    </tr>\n",
       "    <tr>\n",
       "      <th>2</th>\n",
       "      <td>&lt;http://purl.obolibrary.org/obo/MONDO_0016093&gt;</td>\n",
       "      <td>1</td>\n",
       "    </tr>\n",
       "    <tr>\n",
       "      <th>3</th>\n",
       "      <td>&lt;http://purl.obolibrary.org/obo/MONDO_0008882&gt;</td>\n",
       "      <td>1</td>\n",
       "    </tr>\n",
       "    <tr>\n",
       "      <th>4</th>\n",
       "      <td>&lt;http://purl.obolibrary.org/obo/MONDO_0006224&gt;</td>\n",
       "      <td>1</td>\n",
       "    </tr>\n",
       "  </tbody>\n",
       "</table>\n",
       "</div>"
      ],
      "text/plain": [
       "                                             ?cls  ?total\n",
       "0  <http://purl.obolibrary.org/obo/MONDO_0016094>       1\n",
       "1  <http://purl.obolibrary.org/obo/MONDO_0021396>       1\n",
       "2  <http://purl.obolibrary.org/obo/MONDO_0016093>       1\n",
       "3  <http://purl.obolibrary.org/obo/MONDO_0008882>       1\n",
       "4  <http://purl.obolibrary.org/obo/MONDO_0006224>       1"
      ]
     },
     "metadata": {},
     "output_type": "display_data"
    },
    {
     "data": {
      "text/markdown": [
       "#### no-subclass-between-genetic-disease-warning"
      ],
      "text/plain": [
       "<IPython.core.display.Markdown object>"
      ]
     },
     "metadata": {},
     "output_type": "display_data"
    },
    {
     "data": {
      "text/html": [
       "<div>\n",
       "<style scoped>\n",
       "    .dataframe tbody tr th:only-of-type {\n",
       "        vertical-align: middle;\n",
       "    }\n",
       "\n",
       "    .dataframe tbody tr th {\n",
       "        vertical-align: top;\n",
       "    }\n",
       "\n",
       "    .dataframe thead th {\n",
       "        text-align: right;\n",
       "    }\n",
       "</style>\n",
       "<table border=\"1\" class=\"dataframe\">\n",
       "  <thead>\n",
       "    <tr style=\"text-align: right;\">\n",
       "      <th></th>\n",
       "      <th>?d1</th>\n",
       "      <th>?d1_label</th>\n",
       "      <th>?d2</th>\n",
       "      <th>?d2_label</th>\n",
       "    </tr>\n",
       "  </thead>\n",
       "  <tbody>\n",
       "    <tr>\n",
       "      <th>0</th>\n",
       "      <td>&lt;http://purl.obolibrary.org/obo/MONDO_0013529&gt;</td>\n",
       "      <td>catecholaminergic polymorphic ventricular tach...</td>\n",
       "      <td>&lt;http://purl.obolibrary.org/obo/MONDO_0008648&gt;</td>\n",
       "      <td>ventricular tachycardia, familial</td>\n",
       "    </tr>\n",
       "    <tr>\n",
       "      <th>1</th>\n",
       "      <td>&lt;http://purl.obolibrary.org/obo/MONDO_0013966&gt;</td>\n",
       "      <td>catecholaminergic polymorphic ventricular tach...</td>\n",
       "      <td>&lt;http://purl.obolibrary.org/obo/MONDO_0008648&gt;</td>\n",
       "      <td>ventricular tachycardia, familial</td>\n",
       "    </tr>\n",
       "    <tr>\n",
       "      <th>2</th>\n",
       "      <td>&lt;http://purl.obolibrary.org/obo/MONDO_0009597&gt;</td>\n",
       "      <td>metaphyseal chondrodysplasia, Spahr type</td>\n",
       "      <td>&lt;http://purl.obolibrary.org/obo/MONDO_0009943&gt;</td>\n",
       "      <td>Pyle disease</td>\n",
       "    </tr>\n",
       "    <tr>\n",
       "      <th>3</th>\n",
       "      <td>&lt;http://purl.obolibrary.org/obo/MONDO_0012762&gt;</td>\n",
       "      <td>catecholaminergic polymorphic ventricular tach...</td>\n",
       "      <td>&lt;http://purl.obolibrary.org/obo/MONDO_0008648&gt;</td>\n",
       "      <td>ventricular tachycardia, familial</td>\n",
       "    </tr>\n",
       "    <tr>\n",
       "      <th>4</th>\n",
       "      <td>&lt;http://purl.obolibrary.org/obo/MONDO_0011211&gt;</td>\n",
       "      <td>axial spondylometaphyseal dysplasia</td>\n",
       "      <td>&lt;http://purl.obolibrary.org/obo/MONDO_0009943&gt;</td>\n",
       "      <td>Pyle disease</td>\n",
       "    </tr>\n",
       "  </tbody>\n",
       "</table>\n",
       "</div>"
      ],
      "text/plain": [
       "                                              ?d1  \\\n",
       "0  <http://purl.obolibrary.org/obo/MONDO_0013529>   \n",
       "1  <http://purl.obolibrary.org/obo/MONDO_0013966>   \n",
       "2  <http://purl.obolibrary.org/obo/MONDO_0009597>   \n",
       "3  <http://purl.obolibrary.org/obo/MONDO_0012762>   \n",
       "4  <http://purl.obolibrary.org/obo/MONDO_0011211>   \n",
       "\n",
       "                                           ?d1_label  \\\n",
       "0  catecholaminergic polymorphic ventricular tach...   \n",
       "1  catecholaminergic polymorphic ventricular tach...   \n",
       "2           metaphyseal chondrodysplasia, Spahr type   \n",
       "3  catecholaminergic polymorphic ventricular tach...   \n",
       "4                axial spondylometaphyseal dysplasia   \n",
       "\n",
       "                                              ?d2  \\\n",
       "0  <http://purl.obolibrary.org/obo/MONDO_0008648>   \n",
       "1  <http://purl.obolibrary.org/obo/MONDO_0008648>   \n",
       "2  <http://purl.obolibrary.org/obo/MONDO_0009943>   \n",
       "3  <http://purl.obolibrary.org/obo/MONDO_0008648>   \n",
       "4  <http://purl.obolibrary.org/obo/MONDO_0009943>   \n",
       "\n",
       "                           ?d2_label  \n",
       "0  ventricular tachycardia, familial  \n",
       "1  ventricular tachycardia, familial  \n",
       "2                       Pyle disease  \n",
       "3  ventricular tachycardia, familial  \n",
       "4                       Pyle disease  "
      ]
     },
     "metadata": {},
     "output_type": "display_data"
    },
    {
     "data": {
      "text/markdown": [
       "#### related-exact-synonym-warning"
      ],
      "text/plain": [
       "<IPython.core.display.Markdown object>"
      ]
     },
     "metadata": {},
     "output_type": "display_data"
    },
    {
     "data": {
      "text/html": [
       "<div>\n",
       "<style scoped>\n",
       "    .dataframe tbody tr th:only-of-type {\n",
       "        vertical-align: middle;\n",
       "    }\n",
       "\n",
       "    .dataframe tbody tr th {\n",
       "        vertical-align: top;\n",
       "    }\n",
       "\n",
       "    .dataframe thead th {\n",
       "        text-align: right;\n",
       "    }\n",
       "</style>\n",
       "<table border=\"1\" class=\"dataframe\">\n",
       "  <thead>\n",
       "    <tr style=\"text-align: right;\">\n",
       "      <th></th>\n",
       "      <th>?cls</th>\n",
       "      <th>?label</th>\n",
       "      <th>?related</th>\n",
       "    </tr>\n",
       "  </thead>\n",
       "  <tbody>\n",
       "    <tr>\n",
       "      <th>0</th>\n",
       "      <td>&lt;http://purl.obolibrary.org/obo/MONDO_0014756&gt;</td>\n",
       "      <td>tremor, hereditary essential, 5</td>\n",
       "      <td>ETM5</td>\n",
       "    </tr>\n",
       "    <tr>\n",
       "      <th>1</th>\n",
       "      <td>&lt;http://purl.obolibrary.org/obo/MONDO_0006999&gt;</td>\n",
       "      <td>tooth disease</td>\n",
       "      <td>disorder of calcareous tooth</td>\n",
       "    </tr>\n",
       "    <tr>\n",
       "      <th>2</th>\n",
       "      <td>&lt;http://purl.obolibrary.org/obo/MONDO_0009424&gt;</td>\n",
       "      <td>Bartter disease type 2</td>\n",
       "      <td>hyperprostaglandin E syndrome 2</td>\n",
       "    </tr>\n",
       "    <tr>\n",
       "      <th>3</th>\n",
       "      <td>&lt;http://purl.obolibrary.org/obo/MONDO_0017686&gt;</td>\n",
       "      <td>inborn aminoacylase deficiency</td>\n",
       "      <td>rare inborn error of aminoacylase activity</td>\n",
       "    </tr>\n",
       "    <tr>\n",
       "      <th>4</th>\n",
       "      <td>&lt;http://purl.obolibrary.org/obo/MONDO_0020680&gt;</td>\n",
       "      <td>acute bronchiolitis</td>\n",
       "      <td>acute bronchiolitis</td>\n",
       "    </tr>\n",
       "  </tbody>\n",
       "</table>\n",
       "</div>"
      ],
      "text/plain": [
       "                                             ?cls  \\\n",
       "0  <http://purl.obolibrary.org/obo/MONDO_0014756>   \n",
       "1  <http://purl.obolibrary.org/obo/MONDO_0006999>   \n",
       "2  <http://purl.obolibrary.org/obo/MONDO_0009424>   \n",
       "3  <http://purl.obolibrary.org/obo/MONDO_0017686>   \n",
       "4  <http://purl.obolibrary.org/obo/MONDO_0020680>   \n",
       "\n",
       "                            ?label                                    ?related  \n",
       "0  tremor, hereditary essential, 5                                        ETM5  \n",
       "1                    tooth disease                disorder of calcareous tooth  \n",
       "2           Bartter disease type 2             hyperprostaglandin E syndrome 2  \n",
       "3   inborn aminoacylase deficiency  rare inborn error of aminoacylase activity  \n",
       "4              acute bronchiolitis                         acute bronchiolitis  "
      ]
     },
     "metadata": {},
     "output_type": "display_data"
    },
    {
     "name": "stdout",
     "output_type": "stream",
     "text": [
      "WARNING!  excluded-subsumption-is-inferred-warning  is empty and has been skipped.\n"
     ]
    }
   ],
   "source": [
    "for r in warning_reports:\n",
    "    df_r = get_report(r)\n",
    "    if (len(df_r)>0):\n",
    "        display(md(\"#### %s\" % r))\n",
    "        display(df_r.head())"
   ]
  },
  {
   "cell_type": "code",
   "execution_count": null,
   "metadata": {},
   "outputs": [],
   "source": []
  }
 ],
 "metadata": {
  "kernelspec": {
   "display_name": "Python 3",
   "language": "python",
   "name": "python3"
  },
  "language_info": {
   "codemirror_mode": {
    "name": "ipython",
    "version": 3
   },
   "file_extension": ".py",
   "mimetype": "text/x-python",
   "name": "python",
   "nbconvert_exporter": "python",
   "pygments_lexer": "ipython3",
   "version": "3.6.9"
  }
 },
 "nbformat": 4,
 "nbformat_minor": 4
}
