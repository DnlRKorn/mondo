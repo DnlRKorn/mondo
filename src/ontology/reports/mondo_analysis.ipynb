{
 "cells": [
  {
   "cell_type": "markdown",
   "metadata": {},
   "source": [
    "import os\n",
    "os.environ['PATH']\n",
    "stream = os.popen('owltools --help')\n",
    "output = stream.read()\n",
    "output"
   ]
  },
  {
   "cell_type": "code",
   "execution_count": null,
   "metadata": {},
   "outputs": [],
   "source": [
    "import pandas as pd\n",
    "import os\n",
    "from rdflib import Graph\n",
    "from urllib.request import urlopen\n",
    "import subprocess\n",
    "import time\n",
    "from IPython.display import Markdown as md\n",
    "from IPython.display import HTML\n",
    "\n",
    "# use ontobio!!\n",
    "# pd.set_option('display.notebook_repr_html',False)\n",
    "# https://github.com/jupyter/nbconvert/issues/946"
   ]
  },
  {
   "cell_type": "code",
   "execution_count": null,
   "metadata": {},
   "outputs": [],
   "source": [
    "%%javascript\n",
    "IPython.OutputArea.prototype._should_scroll = function(lines) {\n",
    "    return false;\n",
    "}"
   ]
  },
  {
   "cell_type": "markdown",
   "metadata": {},
   "source": [
    "# Mondo analysis"
   ]
  },
  {
   "cell_type": "markdown",
   "metadata": {},
   "source": [
    "from ontobio.ontol_factory import OntologyFactory\n",
    "mondo_file=\"/Users/matentzn/ws/mondo/src/ontology/mondo-qc.obo\"\n",
    "ofa = OntologyFactory()\n",
    "ont = ofa.create(mondo_file)\n",
    "ont.get_roots()[:3]"
   ]
  },
  {
   "cell_type": "code",
   "execution_count": null,
   "metadata": {},
   "outputs": [],
   "source": [
    "#sparql_dir_remote=\"https://raw.githubusercontent.com/monarch-initiative/mondo/no-subclass-between-genetic-disease/src/sparql/\"\n",
    "#mondo = \"mondo-qc.owl\"\n",
    "#sparql_dir_local=\"../sparql/\"\n",
    "reports_dir_local=\"./\"\n",
    "warnings =\"single-child no-subclass-between-genetic-disease related-exact-synonym excluded-subsumption-is-inferred\".split(\" \")\n",
    "warning_reports = [warn+\"-warning\" for warn in warnings] \n",
    "NUMBER_ERRORS_SHOWN=10"
   ]
  },
  {
   "cell_type": "markdown",
   "metadata": {},
   "source": [
    "mondo=\"http://purl.obolibrary.org/obo/mondo.owl\"\n",
    "g = Graph()\n",
    "g.parse(\"../mondo-qc.owl\", format=\"xml\")"
   ]
  },
  {
   "cell_type": "code",
   "execution_count": null,
   "metadata": {},
   "outputs": [],
   "source": [
    "def sparql_path(sparql):\n",
    "    return os.path.join(sparql_dir_local,sparql+\".sparql\")\n",
    "\n",
    "def report_path(report):\n",
    "    return os.path.join(reports_dir_local,report+\".tsv\")\n",
    "\n",
    "def get_report(name):\n",
    "    try:\n",
    "        return pd.read_csv(report_path(name),sep=\"\\t\")\n",
    "    except pd.errors.EmptyDataError:\n",
    "        print(\"WARNING! \", name, \" is empty and has been skipped.\")\n",
    "    return pd.DataFrame(columns=['EMPTY'])\n",
    "        \n",
    "def load_from_uri(uri):\n",
    "    query = urlopen(sparql_iri).read().decode('utf-8')\n",
    "    return query\n",
    "\n",
    "\n",
    "def load_from_local_file(file_path):\n",
    "    with open(file_path, 'r') as file:\n",
    "        data = file.read()\n",
    "    return data\n"
   ]
  },
  {
   "cell_type": "markdown",
   "metadata": {},
   "source": [
    "## Robot report analysis"
   ]
  },
  {
   "cell_type": "code",
   "execution_count": null,
   "metadata": {},
   "outputs": [],
   "source": [
    "df = get_report(\"obo-report\")\n",
    "# Bug in ROBOT, wrong number of columns:\n",
    "df.columns=['Rule Name', 'Subject', 'Property', 'Value','Trash']\n",
    "df['Level'] = df.index\n",
    "df.reset_index(level=0, inplace=True)\n",
    "del df['index']\n",
    "del df['Trash']"
   ]
  },
  {
   "cell_type": "markdown",
   "metadata": {},
   "source": [
    "### Overview of errors\n",
    "\n",
    "This breaks down the errors in the generic ROBOT report."
   ]
  },
  {
   "cell_type": "code",
   "execution_count": null,
   "metadata": {},
   "outputs": [],
   "source": [
    "df=df[df['Subject'].str.startswith('MONDO')]\n",
    "df[['Level','Rule Name','Value']].groupby(['Level','Rule Name']).count()"
   ]
  },
  {
   "cell_type": "code",
   "execution_count": null,
   "metadata": {},
   "outputs": [],
   "source": [
    "for rule in df['Rule Name'].unique():\n",
    "    display(md(\"#### %s\" % rule))\n",
    "    dfd = df[df['Rule Name']==rule].head(NUMBER_ERRORS_SHOWN)\n",
    "    display(HTML(dfd.to_html(index=False)))\n",
    "\n",
    "\n",
    "# Revealed a more complex issue we need to sort first: https://github.com/monarch-initiative/mondo/issues/1979\n",
    "# https://github.com/ontodev/robot/issues/733 # Ignore 0021108 0045024 until ticket resolved."
   ]
  },
  {
   "cell_type": "markdown",
   "metadata": {},
   "source": [
    "# Other checks analyses"
   ]
  },
  {
   "cell_type": "code",
   "execution_count": null,
   "metadata": {
    "scrolled": true
   },
   "outputs": [],
   "source": [
    "for r in warning_reports:\n",
    "    df_r = get_report(r)\n",
    "    if (len(df_r)>0):\n",
    "        display(md(\"#### %s\" % r))\n",
    "        df_rd = df_r.head(NUMBER_ERRORS_SHOWN).copy()\n",
    "        display(HTML(df_rd.to_html(index=False)))"
   ]
  },
  {
   "cell_type": "markdown",
   "metadata": {},
   "source": [
    "## Mondo Statistics"
   ]
  },
  {
   "cell_type": "code",
   "execution_count": null,
   "metadata": {},
   "outputs": [],
   "source": []
  }
 ],
 "metadata": {
  "kernelspec": {
   "display_name": "Python 3",
   "language": "python",
   "name": "python3"
  },
  "language_info": {
   "codemirror_mode": {
    "name": "ipython",
    "version": 3
   },
   "file_extension": ".py",
   "mimetype": "text/x-python",
   "name": "python",
   "nbconvert_exporter": "python",
   "pygments_lexer": "ipython3",
   "version": "3.8.3"
  }
 },
 "nbformat": 4,
 "nbformat_minor": 4
}
